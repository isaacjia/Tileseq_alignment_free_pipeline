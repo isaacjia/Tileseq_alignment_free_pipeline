{
 "cells": [
  {
   "cell_type": "code",
   "execution_count": 2,
   "metadata": {
    "collapsed": false
   },
   "outputs": [
    {
     "data": {
      "text/plain": [
       "u'/Users/Isaac/Desktop/Kitzman_lab/xj-scripts/ipythonnotebook'"
      ]
     },
     "execution_count": 2,
     "metadata": {},
     "output_type": "execute_result"
    }
   ],
   "source": [
    "%pwd"
   ]
  },
  {
   "cell_type": "code",
   "execution_count": 4,
   "metadata": {
    "collapsed": false
   },
   "outputs": [
    {
     "name": "stdout",
     "output_type": "stream",
     "text": [
      "20161205_bcseq_lib2lib_overlap.ipynb    20170125_bc_pct.ipynb\r\n",
      "20161207_explore_bc_distribs.ipynb      20170316_bc_tracing.ipynb\r\n",
      "20161221_bcseq_lib2lib_overlap.ipynb    20170316_bc_tracing.py\r\n",
      "20161221_explore_bc_distribs.ipynb      20170320_bc_tra_plotting.ipynb\r\n",
      "20170109_bcseq_lib2lib_overlap.ipynb    20170320_bc_tracing.ipynb\r\n",
      "20170109_explore_bc_distribs.ipynb      20170320_bc_tracing_control.ipynb\r\n",
      "20170110_bcseq_lib2lib_overlap.ipynb    20170321_bc_mastersheet_Final.ipynb\r\n",
      "20170117_bc_pct.ipynb                   20170321_bc_subsheet.ipynb\r\n",
      "20170117_bcseq_lib2lib_overlap.ipynb    20170321_bc_tracing.ipynb\r\n",
      "20170118_bc_pct.ipynb                   20170322_bc_master_plotting.ipynb\r\n",
      "20170118_bc_pct.py                      20170322_bc_subsheet_pooled.ipynb\r\n",
      "20170118_plasmid_bc_master_table.ipynb  Untitled.ipynb\r\n"
     ]
    }
   ],
   "source": [
    "%ls"
   ]
  },
  {
   "cell_type": "code",
   "execution_count": 6,
   "metadata": {
    "collapsed": false
   },
   "outputs": [
    {
     "name": "stdout",
     "output_type": "stream",
     "text": [
      "--2017-03-24 16:10:46--  https://raw.githubusercontent.com/ipython-books/minibook-2nd-data/master/facebook.zip\n",
      "Resolving raw.githubusercontent.com... 151.101.44.133\n",
      "Connecting to raw.githubusercontent.com|151.101.44.133|:443... connected.\n",
      "HTTP request sent, awaiting response... 200 OK\n",
      "Length: 610785 (596K) [application/zip]\n",
      "Saving to: ‘facebook.zip’\n",
      "\n",
      "facebook.zip        100%[===================>] 596.47K  2.21MB/s    in 0.3s    \n",
      "\n",
      "2017-03-24 16:10:46 (2.21 MB/s) - ‘facebook.zip’ saved [610785/610785]\n",
      "\n"
     ]
    }
   ],
   "source": [
    "!wget https://raw.githubusercontent.com/ipython-books/minibook-2nd-data/master/facebook.zip"
   ]
  },
  {
   "cell_type": "code",
   "execution_count": 9,
   "metadata": {
    "collapsed": false
   },
   "outputs": [
    {
     "name": "stdout",
     "output_type": "stream",
     "text": [
      "Archive:  facebook.zip\n",
      "replace facebook/0.circles? [y]es, [n]o, [A]ll, [N]one, [r]ename: ^C\n"
     ]
    }
   ],
   "source": [
    "!unzip facebook.zip"
   ]
  },
  {
   "cell_type": "code",
   "execution_count": 10,
   "metadata": {
    "collapsed": false
   },
   "outputs": [
    {
     "name": "stdout",
     "output_type": "stream",
     "text": [
      "20161205_bcseq_lib2lib_overlap.ipynb    20170316_bc_tracing.ipynb\r\n",
      "20161207_explore_bc_distribs.ipynb      20170316_bc_tracing.py\r\n",
      "20161221_bcseq_lib2lib_overlap.ipynb    20170320_bc_tra_plotting.ipynb\r\n",
      "20161221_explore_bc_distribs.ipynb      20170320_bc_tracing.ipynb\r\n",
      "20170109_bcseq_lib2lib_overlap.ipynb    20170320_bc_tracing_control.ipynb\r\n",
      "20170109_explore_bc_distribs.ipynb      20170321_bc_mastersheet_Final.ipynb\r\n",
      "20170110_bcseq_lib2lib_overlap.ipynb    20170321_bc_subsheet.ipynb\r\n",
      "20170117_bc_pct.ipynb                   20170321_bc_tracing.ipynb\r\n",
      "20170117_bcseq_lib2lib_overlap.ipynb    20170322_bc_master_plotting.ipynb\r\n",
      "20170118_bc_pct.ipynb                   20170322_bc_subsheet_pooled.ipynb\r\n",
      "20170118_bc_pct.py                      Untitled.ipynb\r\n",
      "20170118_plasmid_bc_master_table.ipynb  \u001b[1m\u001b[36mfacebook\u001b[m\u001b[m/\r\n",
      "20170125_bc_pct.ipynb                   facebook.zip\r\n"
     ]
    }
   ],
   "source": [
    "%ls"
   ]
  },
  {
   "cell_type": "code",
   "execution_count": null,
   "metadata": {
    "collapsed": true
   },
   "outputs": [],
   "source": []
  }
 ],
 "metadata": {
  "anaconda-cloud": {},
  "kernelspec": {
   "display_name": "Python [py2]",
   "language": "python",
   "name": "Python [py2]"
  },
  "language_info": {
   "codemirror_mode": {
    "name": "ipython",
    "version": 2
   },
   "file_extension": ".py",
   "mimetype": "text/x-python",
   "name": "python",
   "nbconvert_exporter": "python",
   "pygments_lexer": "ipython2",
   "version": "2.7.12"
  }
 },
 "nbformat": 4,
 "nbformat_minor": 0
}
